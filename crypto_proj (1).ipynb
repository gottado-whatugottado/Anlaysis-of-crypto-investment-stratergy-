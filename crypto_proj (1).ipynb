{
 "cells": [
  {
   "cell_type": "markdown",
   "id": "9f4429d3",
   "metadata": {},
   "source": [
    "# M. Hareeshwar Reddy\n",
    "## mogillannolla_h@ch.iitr.ac.in"
   ]
  },
  {
   "cell_type": "code",
   "execution_count": 1,
   "id": "db2d4a61",
   "metadata": {},
   "outputs": [],
   "source": [
    "import requests\n",
    "import datetime\n",
    "import matplotlib.pyplot as plt\n",
    "import time"
   ]
  },
  {
   "cell_type": "markdown",
   "id": "1c2939ca",
   "metadata": {},
   "source": [
    "# Reading the data from the APIs"
   ]
  },
  {
   "cell_type": "code",
   "execution_count": 2,
   "id": "d4a00488",
   "metadata": {},
   "outputs": [],
   "source": [
    "#coins considered for trading\n",
    "coins = [\"BTC\", \"ETH\", \"ADA\", \"SOL\", \"POL\"]\n",
    "\n",
    "#function to get the data of a coin stored in the dictionary\n",
    "def get_data(currency):\n",
    "    response = requests.get(\"https://min-api.cryptocompare.com/data/v2/histoday?fsym={}&tsym=USD&limit=1095\".format(currency))\n",
    "    data = response.json()['Data']['Data']\n",
    "    return data\n",
    "\n",
    "BTC_data = get_data(\"BTC\")\n",
    "ETH_data = get_data(\"ETH\")\n",
    "ADA_data = get_data(\"ADA\")\n",
    "SOL_data = get_data(\"SOL\")\n",
    "POL_data = get_data(\"POL\")\n",
    "\n",
    "#storing data in a dictionary with key values named after the currency\n",
    "data = {'BTC_data':BTC_data, 'ETH_data':ETH_data, 'ADA_data':ADA_data, 'SOL_data':SOL_data, 'POL_data':POL_data}"
   ]
  },
  {
   "cell_type": "code",
   "execution_count": 3,
   "id": "e4decca4",
   "metadata": {},
   "outputs": [],
   "source": [
    "#function to get the 30day return of a currency\n",
    "def price_ret(currency, index):\n",
    "    return (data[\"{}_data\".format(currency)][index-1]['close']/data[\"{}_data\".format(currency)][index-30]['close'])-1"
   ]
  },
  {
   "cell_type": "code",
   "execution_count": 4,
   "id": "8306c4a3",
   "metadata": {},
   "outputs": [],
   "source": [
    "#ranking coins based on their 30 day returns\n",
    "def rank_coins(coins,index):\n",
    "    coins.sort(key=lambda coin: price_ret(coin,index), reverse=True)\n",
    "    return coins"
   ]
  },
  {
   "cell_type": "code",
   "execution_count": 5,
   "id": "050e7707",
   "metadata": {},
   "outputs": [],
   "source": [
    "# def monthly_plan(coins, index):\n",
    "#     coins = rank_coins(coins, index)\n",
    "#     new_month_portfolio = {'balance': 0, 'quantity':{'POL':0, 'BTC':0, 'ETH':0, 'SOL':0, 'ADA':0}}\n",
    "#     new_month_portfolio['quantity'] = portfolio[len(portfolio)-1]['quantity'].copy()\n",
    "#     new_month_portfolio['quantity'] = portfolio[len(portfolio)-1]['balance']\n",
    "#     new_month_portfolio[coins[0]] += 1\n",
    "#     if new_month_portfolio[coins[4]] != 0: new_month_portfolio[coins[4]] = 0\n",
    "#     portfolio.append(new_month_portfolio)"
   ]
  },
  {
   "cell_type": "code",
   "execution_count": 6,
   "id": "894222e5",
   "metadata": {},
   "outputs": [],
   "source": [
    "# portfolio variable to store the cash in hand, quantity of coins in account, and the time of the day\n",
    "portfolio = [{'balance': 0, 'time': 1609459200,'quantity':{'POL':0, 'BTC':0, 'ETH':0, 'SOL':0, 'ADA':0}}]"
   ]
  },
  {
   "cell_type": "markdown",
   "id": "3e5b0799",
   "metadata": {},
   "source": [
    "# Function to execute the monthly plan\n",
    "\n",
    "###  At the end of every month we analyse the last 30 day returns to  buy the top ranked coin and sell the bottom ranked coin with the available balance + 10000USD of new added investment "
   ]
  },
  {
   "cell_type": "code",
   "execution_count": 7,
   "id": "b24f2ae8",
   "metadata": {},
   "outputs": [],
   "source": [
    "def monthly_plan_execute(coins, index):\n",
    "    coins = rank_coins(coins, index)\n",
    "    new_month_portfolio = {'balance': 0,'time': 0, 'quantity':{'POL':0, 'BTC':0, 'ETH':0, 'SOL':0, 'ADA':0}}\n",
    "    new_month_portfolio['balance'] = portfolio[len(portfolio)-1]['balance']\n",
    "    new_month_portfolio['quantity'] = portfolio[len(portfolio)-1]['quantity'].copy()\n",
    "    new_month_portfolio['time'] = BTC_data[i]['time']\n",
    "    #adding 10000 USD to the trading account\n",
    "    balance = new_month_portfolio['balance']+10000\n",
    "    new_qty = balance/data['{}_data'.format(coins[0])][index]['close']\n",
    "    new_month_portfolio['balance'] = 0\n",
    "    new_month_portfolio['quantity'][coins[0]] += new_qty\n",
    "    if new_month_portfolio['quantity'][coins[4]] != 0:\n",
    "        price = data['{}_data'.format(coins[4])][index]['close']\n",
    "        new_month_portfolio['balance'] += (price*new_month_portfolio['quantity'][coins[4]])\n",
    "        new_month_portfolio['quantity'][coins[4]] = 0\n",
    "    portfolio.append(new_month_portfolio)"
   ]
  },
  {
   "cell_type": "code",
   "execution_count": 8,
   "id": "23f08a89",
   "metadata": {
    "scrolled": true
   },
   "outputs": [],
   "source": [
    "# Execting the monthly plan on month ends\n",
    "curr = datetime.datetime(2021, 1, 1) #storing the month start\n",
    "nxt_mnth = curr.replace(day=28) + datetime.timedelta(days=4) \n",
    "next_date = (nxt_mnth - datetime.timedelta(days=nxt_mnth.day)) #storing the month end date\n",
    "curr = next_date+datetime.timedelta(days=1) #storing the start date of the next month\n",
    "for i in range(601,len(BTC_data)):\n",
    "    new_date = time.gmtime(BTC_data[i]['time'])\n",
    "    #executing the monthly plan at month ends\n",
    "    if datetime.datetime(new_date.tm_year, new_date.tm_mon, new_date.tm_mday) == next_date:\n",
    "        monthly_plan_execute(coins, i)\n",
    "        nxt_mnth = curr.replace(day=28) + datetime.timedelta(days=4)\n",
    "        next_date = (nxt_mnth - datetime.timedelta(days=nxt_mnth.day))\n",
    "        curr = next_date+datetime.timedelta(days=1)"
   ]
  },
  {
   "cell_type": "code",
   "execution_count": 9,
   "id": "074a571c",
   "metadata": {},
   "outputs": [],
   "source": [
    "#function to get the price of a currency at a given time \n",
    "def get_price(time, currency):\n",
    "    return data['{}_data'.format(currency)][int((time-1560124800)/86400)-1]['close']"
   ]
  },
  {
   "cell_type": "code",
   "execution_count": 10,
   "id": "cb9b13a3",
   "metadata": {},
   "outputs": [],
   "source": [
    "#storing the portfolio values in terms of BTC\n",
    "portfolio_value = []\n",
    "time_axis = []\n",
    "for ele in portfolio:\n",
    "    amt = ele['balance']\n",
    "    for (key) in ele['quantity']:\n",
    "        amt += (get_price(ele['time'], key)*ele['quantity'][key])\n",
    "    portfolio_value.append(amt/get_price(ele['time'], 'BTC'))\n",
    "    date = time.gmtime(ele['time'])\n",
    "    time_axis.append(str(date.tm_mon)+'/'+str(date.tm_year)[-2:])"
   ]
  },
  {
   "cell_type": "code",
   "execution_count": 11,
   "id": "e375580a",
   "metadata": {},
   "outputs": [
    {
     "data": {
      "image/png": "[encoded data removed]",
      "text/plain": [
       "<Figure size 720x360 with 1 Axes>"
      ]
     },
     "metadata": {
      "needs_background": "light"
     },
     "output_type": "display_data"
    }
   ],
   "source": [
    "#plotting the Values\n",
    "plt.rcParams[\"figure.figsize\"] = [10, 5]\n",
    "plt.rcParams[\"figure.autolayout\"] = True\n",
    "plt.plot(time_axis,portfolio_value, '--bo')\n",
    "plt.grid()\n",
    "plt.show()"
   ]
  },
  {
   "cell_type": "markdown",
   "id": "10340823",
   "metadata": {},
   "source": [
    "### In the above investment stratergy we are depending on the data of the day we trade and 30 days previous to that.\n",
    "### We have neglected the the remaining days and have not considered them for trading which is not thr right thing to do as we culd have lost a potential gains in that period.\n",
    "### As we know that crypto market is open 24/7 and the value of the coins is volatile. To take the maximum advantage of this volatility we must always keep an eye out for the market. \n",
    "### During the time we are not trading there might be news released which will affect the value and we might have to bear the brunt of our stratergy.\n",
    "### We are not doing any of the technical analysis which should be the basis of any trade that we do. This considers the state of the market and helps us to get the trades more accurate.\n",
    "### The strategy we used above has worked only because the market in the stipualated time was always seeing new highs and peeks on every front, but this will not be the case every year."
   ]
  },
  {
   "cell_type": "code",
   "execution_count": 12,
   "id": "b33e0982",
   "metadata": {},
   "outputs": [
    {
     "name": "stdout",
     "output_type": "stream",
     "text": [
      "Total investment: 180000\n"
     ]
    }
   ],
   "source": [
    "# total investment\n",
    "print(\"Total investment:\", len(portfolio_value)*10000)"
   ]
  },
  {
   "cell_type": "code",
   "execution_count": 13,
   "id": "103586e6",
   "metadata": {},
   "outputs": [
    {
     "name": "stdout",
     "output_type": "stream",
     "text": [
      "Final Portfolio Value: 502642.41657520307\n"
     ]
    }
   ],
   "source": [
    "# final portfolio value\n",
    "print(\"Final Portfolio Value:\", portfolio_value[len(portfolio_value)-1]*get_price(portfolio[len(portfolio)-1]['time'], 'BTC'))"
   ]
  },
  {
   "cell_type": "code",
   "execution_count": 14,
   "id": "ea8e5c73",
   "metadata": {},
   "outputs": [
    {
     "name": "stdout",
     "output_type": "stream",
     "text": [
      "Total profit: 322642.41657520307\n"
     ]
    }
   ],
   "source": [
    "#Total profit\n",
    "print(\"Total profit:\", portfolio_value[len(portfolio_value)-1]*get_price(portfolio[len(portfolio)-1]['time'], 'BTC')-len(portfolio_value)*10000)"
   ]
  },
  {
   "cell_type": "markdown",
   "id": "3328f143",
   "metadata": {},
   "source": [
    "### Though the returns seem nice and the investment had bought in huge profits, that is not the maximum profit that one could achieve from the same amount of investment during the same time.\n",
    "### We have calculated the coin with high returns and invested all of the available balance in that coin, which is not a good practice in the long run.\n",
    "### There is a saying that \"we should not put all eggs in one basket\", similarly we should diversify our investment into various coins to avoid losing them all.\n",
    "### The investment should also consider the upcoming trends along with the future of these coins"
   ]
  }
 ],
 "metadata": {
  "kernelspec": {
   "display_name": "Python 3",
   "language": "python",
   "name": "python3"
  },
  "language_info": {
   "codemirror_mode": {
    "name": "ipython",
    "version": 3
   },
   "file_extension": ".py",
   "mimetype": "text/x-python",
   "name": "python",
   "nbconvert_exporter": "python",
   "pygments_lexer": "ipython3",
   "version": "3.8.8"
  }
 },
 "nbformat": 4,
 "nbformat_minor": 5
}
